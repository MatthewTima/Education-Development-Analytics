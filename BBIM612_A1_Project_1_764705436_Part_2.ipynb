{
 "cells": [
  {
   "cell_type": "code",
   "execution_count": 2,
   "id": "4d4cd378-4eaa-4bf4-a2ce-cf0eaaa53f97",
   "metadata": {},
   "outputs": [],
   "source": [
    "# Importing pandas library for data manipulation\n",
    "import pandas as pd\n",
    "\n",
    "# Reading the three datasets from CSV files\n",
    "df1 = pd.read_csv('Downloads\\\\CleanedCountriesLiteracyRateRefined.csv')\n",
    "df2 = pd.read_csv('Downloads\\\\GovernmentEducationSpendingRefined.csv')\n",
    "df3 = pd.read_csv('Downloads\\\\HumanDevelopmentIndexRefined.csv')"
   ]
  },
  {
   "cell_type": "code",
   "execution_count": 3,
   "id": "086b773f-fcae-445c-87c3-16780b3bbd2a",
   "metadata": {},
   "outputs": [
    {
     "data": {
      "text/html": [
       "<div>\n",
       "<style scoped>\n",
       "    .dataframe tbody tr th:only-of-type {\n",
       "        vertical-align: middle;\n",
       "    }\n",
       "\n",
       "    .dataframe tbody tr th {\n",
       "        vertical-align: top;\n",
       "    }\n",
       "\n",
       "    .dataframe thead th {\n",
       "        text-align: right;\n",
       "    }\n",
       "</style>\n",
       "<table border=\"1\" class=\"dataframe\">\n",
       "  <thead>\n",
       "    <tr style=\"text-align: right;\">\n",
       "      <th></th>\n",
       "      <th>Rank_x</th>\n",
       "      <th>Country</th>\n",
       "      <th>Average scale score</th>\n",
       "      <th>Change over 5 years</th>\n",
       "      <th>Percentage of GDP</th>\n",
       "      <th>Year</th>\n",
       "      <th>Rank_y</th>\n",
       "      <th>HDI Value</th>\n",
       "      <th>Annual Growth (2010-2021)</th>\n",
       "    </tr>\n",
       "  </thead>\n",
       "  <tbody>\n",
       "    <tr>\n",
       "      <th>0</th>\n",
       "      <td>1</td>\n",
       "      <td>Singapore</td>\n",
       "      <td>587</td>\n",
       "      <td>11.0</td>\n",
       "      <td>2.9</td>\n",
       "      <td>2013</td>\n",
       "      <td>9</td>\n",
       "      <td>0.949</td>\n",
       "      <td>0.25</td>\n",
       "    </tr>\n",
       "    <tr>\n",
       "      <th>1</th>\n",
       "      <td>2</td>\n",
       "      <td>Ireland</td>\n",
       "      <td>577</td>\n",
       "      <td>10.0</td>\n",
       "      <td>3.7</td>\n",
       "      <td>2017</td>\n",
       "      <td>7</td>\n",
       "      <td>0.950</td>\n",
       "      <td>0.38</td>\n",
       "    </tr>\n",
       "    <tr>\n",
       "      <th>2</th>\n",
       "      <td>3</td>\n",
       "      <td>Hong Kong</td>\n",
       "      <td>573</td>\n",
       "      <td>4.0</td>\n",
       "      <td>3.3</td>\n",
       "      <td>2018</td>\n",
       "      <td>4</td>\n",
       "      <td>0.956</td>\n",
       "      <td>0.38</td>\n",
       "    </tr>\n",
       "    <tr>\n",
       "      <th>3</th>\n",
       "      <td>4</td>\n",
       "      <td>Russia</td>\n",
       "      <td>567</td>\n",
       "      <td>14.0</td>\n",
       "      <td>3.7</td>\n",
       "      <td>2020</td>\n",
       "      <td>56</td>\n",
       "      <td>0.821</td>\n",
       "      <td>0.25</td>\n",
       "    </tr>\n",
       "    <tr>\n",
       "      <th>4</th>\n",
       "      <td>7</td>\n",
       "      <td>Croatia</td>\n",
       "      <td>557</td>\n",
       "      <td>0.0</td>\n",
       "      <td>4.6</td>\n",
       "      <td>2013</td>\n",
       "      <td>39</td>\n",
       "      <td>0.878</td>\n",
       "      <td>0.53</td>\n",
       "    </tr>\n",
       "  </tbody>\n",
       "</table>\n",
       "</div>"
      ],
      "text/plain": [
       "   Rank_x    Country  Average scale score  Change over 5 years  \\\n",
       "0       1  Singapore                  587                 11.0   \n",
       "1       2    Ireland                  577                 10.0   \n",
       "2       3  Hong Kong                  573                  4.0   \n",
       "3       4     Russia                  567                 14.0   \n",
       "4       7    Croatia                  557                  0.0   \n",
       "\n",
       "   Percentage of GDP  Year  Rank_y  HDI Value  Annual Growth (2010-2021)  \n",
       "0                2.9  2013       9      0.949                       0.25  \n",
       "1                3.7  2017       7      0.950                       0.38  \n",
       "2                3.3  2018       4      0.956                       0.38  \n",
       "3                3.7  2020      56      0.821                       0.25  \n",
       "4                4.6  2013      39      0.878                       0.53  "
      ]
     },
     "execution_count": 3,
     "metadata": {},
     "output_type": "execute_result"
    }
   ],
   "source": [
    "# Renaming columns to have a consistent 'Country' column\n",
    "df1 = df1.rename(columns={'Country': 'Country'})\n",
    "df2 = df2.rename(columns={'Location': 'Country'})\n",
    "df3 = df3.rename(columns={'Country': 'Country'})\n",
    "\n",
    "# Merging all 3 DataFrames\n",
    "merged_df = df1.merge(df2, on='Country', how='inner').merge(df3, on='Country', how='inner')\n",
    "\n",
    "# Displaying the merged DataFrame\n",
    "merged_df.head()"
   ]
  },
  {
   "cell_type": "code",
   "execution_count": 4,
   "id": "d9eef95b-c8aa-4be3-997f-0e1d6233a7ff",
   "metadata": {},
   "outputs": [
    {
     "data": {
      "text/plain": [
       "(37, 9)"
      ]
     },
     "execution_count": 4,
     "metadata": {},
     "output_type": "execute_result"
    }
   ],
   "source": [
    "# Displaying how many rows and columns in the new merged Data frame\n",
    "merged_df.shape\n",
    "# Small values eqautes to strict data regulations (Making sure the merged Data Frame to not include Nan values)"
   ]
  },
  {
   "cell_type": "code",
   "execution_count": 5,
   "id": "47cb0535-5ef4-4650-8ea7-78c910911197",
   "metadata": {},
   "outputs": [
    {
     "name": "stdout",
     "output_type": "stream",
     "text": [
      "\n",
      "Sorted in ascending order:\n",
      "\n",
      "         Country  Average scale score  Percentage of GDP  HDI Value\n",
      "35  South Africa                  288                6.2      0.717\n",
      "34       Morocco                  372                5.4      0.698\n",
      "33         Egypt                  378                3.9      0.728\n",
      "32        Jordan                  381                3.6      0.736\n",
      "36  South Africa                  384                6.2      0.717\n",
      "31          Iran                  413                4.0      0.780\n",
      "30          Oman                  429                6.8      0.819\n",
      "29    Uzbekistan                  437                6.3      0.727\n",
      "28    Azerbaijan                  440                2.5      0.760\n",
      "27       Bahrain                  458                2.3      0.888\n"
     ]
    }
   ],
   "source": [
    "# Sorting Dataframe by 'Average scale score' in ascending order\n",
    "merged_df_asc = merged_df.sort_values(by='Average scale score', ascending=True)\n",
    "\n",
    "# Displaying the Top 10 Countries (first few rows of the sorted DataFrames)\n",
    "print(\"\\nSorted in ascending order:\\n\")\n",
    "print(merged_df_asc[['Country', 'Average scale score', 'Percentage of GDP', 'HDI Value']].head(10))"
   ]
  },
  {
   "cell_type": "code",
   "execution_count": 6,
   "id": "7ac6f7db-bca6-46d4-a52f-578a828dcdb0",
   "metadata": {},
   "outputs": [
    {
     "name": "stdout",
     "output_type": "stream",
     "text": [
      "\n",
      "Sorted in descending order:\n",
      "\n",
      "           Country  Average scale score  Percentage of GDP  HDI Value\n",
      "0        Singapore                  587                2.9      0.949\n",
      "1          Ireland                  577                3.7      0.950\n",
      "2        Hong Kong                  573                3.3      0.956\n",
      "3           Russia                  567                3.7      0.821\n",
      "4          Croatia                  557                4.6      0.878\n",
      "5           Poland                  549                4.6      0.881\n",
      "8          Hungary                  539                4.7      0.851\n",
      "10          Norway                  539                8.0      0.966\n",
      "7   Czech Republic                  539                5.6      0.895\n",
      "6         Bulgaria                  539                4.1      0.799\n"
     ]
    }
   ],
   "source": [
    "# Sorting by 'Average scale score' in descending order\n",
    "merged_df_desc = merged_df.sort_values(by='Average scale score', ascending=False)\n",
    "\n",
    "# Displaying the Top 10 Countries (first few rows of the sorted DataFrames)\n",
    "print(\"\\nSorted in descending order:\\n\")\n",
    "print(merged_df_desc[['Country', 'Average scale score', 'Percentage of GDP', 'HDI Value']].head(10))"
   ]
  },
  {
   "cell_type": "code",
   "execution_count": 7,
   "id": "d5f36164-b9c0-43d0-8928-3d7f1531e052",
   "metadata": {},
   "outputs": [
    {
     "name": "stdout",
     "output_type": "stream",
     "text": [
      "Summary Statistics:\n",
      "          Rank_x  Average scale score  Change over 5 years  Percentage of GDP  \\\n",
      "count  37.000000            37.000000            37.000000          37.000000   \n",
      "mean   29.000000           493.837838            12.864865           4.554054   \n",
      "std    17.227239            68.105928            12.660442           1.658244   \n",
      "min     0.000000           288.000000             0.000000           0.000000   \n",
      "25%    17.000000           458.000000             2.000000           3.700000   \n",
      "50%    29.000000           514.000000            11.000000           4.600000   \n",
      "75%    43.000000           539.000000            18.000000           5.600000   \n",
      "max    56.000000           587.000000            48.000000           8.000000   \n",
      "\n",
      "              Year      Rank_y  HDI Value  Annual Growth (2010-2021)  \n",
      "count    37.000000   37.000000  37.000000                  37.000000  \n",
      "mean   1961.054054   47.945946   0.856378                   0.416216  \n",
      "std     331.365353   34.349467   0.080582                   0.262672  \n",
      "min       0.000000    2.000000   0.698000                   0.090000  \n",
      "25%    2015.000000   25.000000   0.799000                   0.250000  \n",
      "50%    2016.000000   39.000000   0.878000                   0.350000  \n",
      "75%    2017.000000   70.000000   0.915000                   0.500000  \n",
      "max    2020.000000  120.000000   0.966000                   1.210000  \n",
      "\n",
      "Median Values:\n",
      "Rank_x                         29.000\n",
      "Average scale score           514.000\n",
      "Change over 5 years            11.000\n",
      "Percentage of GDP               4.600\n",
      "Year                         2016.000\n",
      "Rank_y                         39.000\n",
      "HDI Value                       0.878\n",
      "Annual Growth (2010-2021)       0.350\n",
      "dtype: float64\n",
      "\n",
      "Mode Values:\n",
      "Rank_x                         17.000\n",
      "Average scale score           539.000\n",
      "Change over 5 years             0.000\n",
      "Percentage of GDP               4.000\n",
      "Year                         2016.000\n",
      "Rank_y                        110.000\n",
      "HDI Value                       0.717\n",
      "Annual Growth (2010-2021)       0.250\n",
      "Name: 0, dtype: float64\n"
     ]
    }
   ],
   "source": [
    "# Executing summary statistics\n",
    "summary_stats = merged_df.describe()\n",
    "\n",
    "print(\"Summary Statistics:\")\n",
    "print(summary_stats)\n",
    "\n",
    "# Calculating additional statistics\n",
    "median_values = merged_df.median(numeric_only=True)\n",
    "mode_values = merged_df.mode(numeric_only=True).iloc[0]\n",
    "\n",
    "print(\"\\nMedian Values:\")\n",
    "print(median_values)\n",
    "\n",
    "print(\"\\nMode Values:\")\n",
    "print(mode_values)"
   ]
  },
  {
   "cell_type": "code",
   "execution_count": 8,
   "id": "d83b1abb-99aa-40fe-b8eb-a0de15b0dcea",
   "metadata": {},
   "outputs": [
    {
     "data": {
      "text/html": [
       "<div>\n",
       "<style scoped>\n",
       "    .dataframe tbody tr th:only-of-type {\n",
       "        vertical-align: middle;\n",
       "    }\n",
       "\n",
       "    .dataframe tbody tr th {\n",
       "        vertical-align: top;\n",
       "    }\n",
       "\n",
       "    .dataframe thead th {\n",
       "        text-align: right;\n",
       "    }\n",
       "</style>\n",
       "<table border=\"1\" class=\"dataframe\">\n",
       "  <thead>\n",
       "    <tr style=\"text-align: right;\">\n",
       "      <th></th>\n",
       "      <th>Country</th>\n",
       "      <th>Average scale score</th>\n",
       "      <th>Percentage of GDP</th>\n",
       "      <th>HDI Value</th>\n",
       "    </tr>\n",
       "  </thead>\n",
       "  <tbody>\n",
       "    <tr>\n",
       "      <th>5</th>\n",
       "      <td>Poland</td>\n",
       "      <td>549</td>\n",
       "      <td>4.6</td>\n",
       "      <td>0.881</td>\n",
       "    </tr>\n",
       "    <tr>\n",
       "      <th>6</th>\n",
       "      <td>Bulgaria</td>\n",
       "      <td>539</td>\n",
       "      <td>4.1</td>\n",
       "      <td>0.799</td>\n",
       "    </tr>\n",
       "    <tr>\n",
       "      <th>7</th>\n",
       "      <td>Czech Republic</td>\n",
       "      <td>539</td>\n",
       "      <td>5.6</td>\n",
       "      <td>0.895</td>\n",
       "    </tr>\n",
       "    <tr>\n",
       "      <th>8</th>\n",
       "      <td>Hungary</td>\n",
       "      <td>539</td>\n",
       "      <td>4.7</td>\n",
       "      <td>0.851</td>\n",
       "    </tr>\n",
       "    <tr>\n",
       "      <th>9</th>\n",
       "      <td>Denmark</td>\n",
       "      <td>539</td>\n",
       "      <td>7.6</td>\n",
       "      <td>0.952</td>\n",
       "    </tr>\n",
       "    <tr>\n",
       "      <th>10</th>\n",
       "      <td>Norway</td>\n",
       "      <td>539</td>\n",
       "      <td>8.0</td>\n",
       "      <td>0.966</td>\n",
       "    </tr>\n",
       "    <tr>\n",
       "      <th>11</th>\n",
       "      <td>Italy</td>\n",
       "      <td>537</td>\n",
       "      <td>3.8</td>\n",
       "      <td>0.906</td>\n",
       "    </tr>\n",
       "    <tr>\n",
       "      <th>12</th>\n",
       "      <td>Latvia</td>\n",
       "      <td>528</td>\n",
       "      <td>4.7</td>\n",
       "      <td>0.879</td>\n",
       "    </tr>\n",
       "    <tr>\n",
       "      <th>13</th>\n",
       "      <td>Netherlands</td>\n",
       "      <td>527</td>\n",
       "      <td>5.5</td>\n",
       "      <td>0.946</td>\n",
       "    </tr>\n",
       "    <tr>\n",
       "      <th>14</th>\n",
       "      <td>New Zealand</td>\n",
       "      <td>521</td>\n",
       "      <td>6.4</td>\n",
       "      <td>0.939</td>\n",
       "    </tr>\n",
       "    <tr>\n",
       "      <th>15</th>\n",
       "      <td>Spain</td>\n",
       "      <td>521</td>\n",
       "      <td>4.2</td>\n",
       "      <td>0.911</td>\n",
       "    </tr>\n",
       "  </tbody>\n",
       "</table>\n",
       "</div>"
      ],
      "text/plain": [
       "           Country  Average scale score  Percentage of GDP  HDI Value\n",
       "5           Poland                  549                4.6      0.881\n",
       "6         Bulgaria                  539                4.1      0.799\n",
       "7   Czech Republic                  539                5.6      0.895\n",
       "8          Hungary                  539                4.7      0.851\n",
       "9          Denmark                  539                7.6      0.952\n",
       "10          Norway                  539                8.0      0.966\n",
       "11           Italy                  537                3.8      0.906\n",
       "12          Latvia                  528                4.7      0.879\n",
       "13     Netherlands                  527                5.5      0.946\n",
       "14     New Zealand                  521                6.4      0.939\n",
       "15           Spain                  521                4.2      0.911"
      ]
     },
     "execution_count": 8,
     "metadata": {},
     "output_type": "execute_result"
    }
   ],
   "source": [
    "# Slice the DataFrame\n",
    "sliced_df = merged_df.loc[5:15, ['Country', 'Average scale score', 'Percentage of GDP', 'HDI Value']]\n",
    "\n",
    "# Display the sliced DataFrame\n",
    "sliced_df"
   ]
  },
  {
   "cell_type": "code",
   "execution_count": 9,
   "id": "5ef2368d-4398-4744-b9de-aa1dad60e0bb",
   "metadata": {},
   "outputs": [
    {
     "name": "stdout",
     "output_type": "stream",
     "text": [
      "\n",
      "DataFrame with 'Country' as index:\n",
      "\n",
      "           Rank_x  Average scale score  Change over 5 years  \\\n",
      "Country                                                       \n",
      "Singapore       1                  587                 11.0   \n",
      "Ireland         2                  577                 10.0   \n",
      "Hong Kong       3                  573                  4.0   \n",
      "Russia          4                  567                 14.0   \n",
      "Croatia         7                  557                  0.0   \n",
      "\n",
      "           Percentage of GDP  Year  Rank_y  HDI Value  \\\n",
      "Country                                                 \n",
      "Singapore                2.9  2013       9      0.949   \n",
      "Ireland                  3.7  2017       7      0.950   \n",
      "Hong Kong                3.3  2018       4      0.956   \n",
      "Russia                   3.7  2020      56      0.821   \n",
      "Croatia                  4.6  2013      39      0.878   \n",
      "\n",
      "           Annual Growth (2010-2021)  \n",
      "Country                               \n",
      "Singapore                       0.25  \n",
      "Ireland                         0.38  \n",
      "Hong Kong                       0.38  \n",
      "Russia                          0.25  \n",
      "Croatia                         0.53  \n"
     ]
    }
   ],
   "source": [
    "# a. Setting 'Country' column as the index\n",
    "merged_df.set_index('Country', inplace=True)\n",
    "print(\"\\nDataFrame with 'Country' as index:\\n\")\n",
    "print(merged_df.head())"
   ]
  },
  {
   "cell_type": "code",
   "execution_count": 10,
   "id": "20c27bec-dc9e-4190-ab6d-c580c009a29b",
   "metadata": {},
   "outputs": [
    {
     "name": "stdout",
     "output_type": "stream",
     "text": [
      "\n",
      "DataFrame with default integer index:\n",
      "\n",
      "     Country  Rank_x  Average scale score  Change over 5 years  \\\n",
      "0  Singapore       1                  587                 11.0   \n",
      "1    Ireland       2                  577                 10.0   \n",
      "2  Hong Kong       3                  573                  4.0   \n",
      "3     Russia       4                  567                 14.0   \n",
      "4    Croatia       7                  557                  0.0   \n",
      "\n",
      "   Percentage of GDP  Year  Rank_y  HDI Value  Annual Growth (2010-2021)  \n",
      "0                2.9  2013       9      0.949                       0.25  \n",
      "1                3.7  2017       7      0.950                       0.38  \n",
      "2                3.3  2018       4      0.956                       0.38  \n",
      "3                3.7  2020      56      0.821                       0.25  \n",
      "4                4.6  2013      39      0.878                       0.53  \n"
     ]
    }
   ],
   "source": [
    "# b. Resetting the index to default integer-based index\n",
    "merged_df.reset_index(inplace=True)\n",
    "print(\"\\nDataFrame with default integer index:\\n\")\n",
    "print(merged_df.head())"
   ]
  },
  {
   "cell_type": "code",
   "execution_count": 11,
   "id": "e3e3b666-f5be-4287-ae25-9d24d94d1fa9",
   "metadata": {},
   "outputs": [
    {
     "name": "stdout",
     "output_type": "stream",
     "text": [
      "\n",
      "Countries with HDI Value > 0.8:\n",
      "\n",
      "     Country  HDI Value\n",
      "0  Singapore      0.949\n",
      "1    Ireland      0.950\n",
      "2  Hong Kong      0.956\n",
      "3     Russia      0.821\n",
      "4    Croatia      0.878\n"
     ]
    }
   ],
   "source": [
    "# c. Creating a new DataFrame by selecting rows based on a conditional index\n",
    "high_hdi_countries = merged_df[merged_df['HDI Value'] > 0.8]\n",
    "print(\"\\nCountries with HDI Value > 0.8:\\n\")\n",
    "print(high_hdi_countries[['Country', 'HDI Value']].head())"
   ]
  },
  {
   "cell_type": "code",
   "execution_count": 12,
   "id": "7965d3ee-42e2-42d2-94bb-a7396cec6756",
   "metadata": {},
   "outputs": [
    {
     "name": "stdout",
     "output_type": "stream",
     "text": [
      "\n",
      "DataFrame with multi-level index:\n",
      "\n",
      "                Rank_x  Average scale score  Change over 5 years  \\\n",
      "Country   Year                                                     \n",
      "Singapore 2013       1                  587                 11.0   \n",
      "Ireland   2017       2                  577                 10.0   \n",
      "Hong Kong 2018       3                  573                  4.0   \n",
      "Russia    2020       4                  567                 14.0   \n",
      "Croatia   2013       7                  557                  0.0   \n",
      "\n",
      "                Percentage of GDP  Rank_y  HDI Value  \\\n",
      "Country   Year                                         \n",
      "Singapore 2013                2.9       9      0.949   \n",
      "Ireland   2017                3.7       7      0.950   \n",
      "Hong Kong 2018                3.3       4      0.956   \n",
      "Russia    2020                3.7      56      0.821   \n",
      "Croatia   2013                4.6      39      0.878   \n",
      "\n",
      "                Annual Growth (2010-2021)  \n",
      "Country   Year                             \n",
      "Singapore 2013                       0.25  \n",
      "Ireland   2017                       0.38  \n",
      "Hong Kong 2018                       0.38  \n",
      "Russia    2020                       0.25  \n",
      "Croatia   2013                       0.53  \n"
     ]
    }
   ],
   "source": [
    "# d. multi-level indexing by setting multiple columns as the index\n",
    "merged_df.set_index(['Country', 'Year'], inplace=True)\n",
    "print(\"\\nDataFrame with multi-level index:\\n\")\n",
    "print(merged_df.head())"
   ]
  },
  {
   "cell_type": "code",
   "execution_count": 13,
   "id": "072686b4-fc70-4f7c-a7cf-5400af6d3f2c",
   "metadata": {},
   "outputs": [
    {
     "name": "stdout",
     "output_type": "stream",
     "text": [
      "Total records in the MongoDB collection: 74\n"
     ]
    }
   ],
   "source": [
    "from pymongo import MongoClient\n",
    "\n",
    "\n",
    "# Step 1: Establishing a connection to MongoDB\n",
    "client = MongoClient('mongodb://localhost:27017/')  \n",
    "\n",
    "# Step 2: Specifying the database and collection\n",
    "db = client['education_database']  \n",
    "collection = db['country_stats']   \n",
    "\n",
    "# Step 3: Converting DataFrame to a list of dictionaries\n",
    "data = merged_df.to_dict(orient='records')\n",
    "\n",
    "# Step 4: Inserting data into the MongoDB collection\n",
    "collection.insert_many(data)\n",
    "\n",
    "# Step 5: Verifying the data insertion\n",
    "document_count = collection.count_documents({})\n",
    "print(f\"Total records in the MongoDB collection: {document_count}\")\n",
    "\n",
    "# Step 6: Close the MongoDB connection\n",
    "client.close()\n",
    "\n"
   ]
  }
 ],
 "metadata": {
  "kernelspec": {
   "display_name": "Python 3 (ipykernel)",
   "language": "python",
   "name": "python3"
  },
  "language_info": {
   "codemirror_mode": {
    "name": "ipython",
    "version": 3
   },
   "file_extension": ".py",
   "mimetype": "text/x-python",
   "name": "python",
   "nbconvert_exporter": "python",
   "pygments_lexer": "ipython3",
   "version": "3.12.4"
  }
 },
 "nbformat": 4,
 "nbformat_minor": 5
}
